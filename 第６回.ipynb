{
 "cells": [
  {
   "cell_type": "code",
   "execution_count": 210,
   "metadata": {},
   "outputs": [],
   "source": [
    "n=556\n",
    "f = [315, 101, 108, 32]\n",
    "shita = [9/16, 3/16, 3/16, 1/16]\n",
    "def make_s1(n, f, shita):\n",
    "    error = []\n",
    "    for i in range(len(f)):\n",
    "        error.append( (f[i] - (n * shita[i]) ) **2 / (n * shita[i]) ) \n",
    "    return sum(error)"
   ]
  },
  {
   "cell_type": "code",
   "execution_count": 211,
   "metadata": {},
   "outputs": [
    {
     "data": {
      "text/plain": [
       "0.4700239808153477"
      ]
     },
     "execution_count": 211,
     "metadata": {},
     "output_type": "execute_result"
    }
   ],
   "source": [
    "make_s1(n,f, shita)"
   ]
  },
  {
   "cell_type": "code",
   "execution_count": 200,
   "metadata": {},
   "outputs": [],
   "source": [
    "from scipy.stats import chi2\n",
    "def make_p1(n, f, shita):\n",
    "    s = make_s1(n, f, shita)\n",
    "    df = len(f) - 1\n",
    "    return 1 - chi2.cdf(s, df)"
   ]
  },
  {
   "cell_type": "code",
   "execution_count": 201,
   "metadata": {},
   "outputs": [
    {
     "data": {
      "text/plain": [
       "0.925425895103616"
      ]
     },
     "execution_count": 201,
     "metadata": {},
     "output_type": "execute_result"
    }
   ],
   "source": [
    "make_p1(n, f, shita)"
   ]
  },
  {
   "cell_type": "code",
   "execution_count": 4,
   "metadata": {},
   "outputs": [
    {
     "name": "stdout",
     "output_type": "stream",
     "text": [
      "x=0 : 確率=0.0009765625\n",
      "x=1 : 確率=0.009765625\n",
      "x=2 : 確率=0.0439453125\n",
      "x=3 : 確率=0.1171875\n",
      "x=4 : 確率=0.205078125\n",
      "x=5 : 確率=0.24609375\n",
      "x=6 : 確率=0.205078125\n",
      "x=7 : 確率=0.1171875\n",
      "x=8 : 確率=0.0439453125\n",
      "x=9 : 確率=0.009765625\n",
      "x=10 : 確率=0.0009765625\n"
     ]
    }
   ],
   "source": [
    "from scipy.special import comb\n",
    "n=10\n",
    "for i in range(11):\n",
    "    print(\"x={} : 確率={}\".format(i,comb(n,i,exact=False)*(0.5)**i*(1-0.5)**(n-i)))"
   ]
  },
  {
   "cell_type": "code",
   "execution_count": 3,
   "metadata": {},
   "outputs": [
    {
     "name": "stdout",
     "output_type": "stream",
     "text": [
      "0.109375\n"
     ]
    }
   ],
   "source": [
    "from scipy.special import comb\n",
    "p = []\n",
    "for i in range(11):\n",
    "    p.append(comb(n,i,exact=False)*(0.5)**i*(1-0.5)**(n-i))\n",
    "result = 0\n",
    "for i in range(len(p)):\n",
    "    if (p[i] <= p[8]):\n",
    "        result = result + p[i]\n",
    "print(result)"
   ]
  },
  {
   "cell_type": "code",
   "execution_count": 222,
   "metadata": {},
   "outputs": [],
   "source": [
    "def make_s2(n, f, shita):\n",
    "    error = []\n",
    "    for i in range(len(f)):\n",
    "        error.append( (f[i]-(n*shita[i])) ** 2 / (n*shita[i]))\n",
    "    return sum(error)"
   ]
  },
  {
   "cell_type": "code",
   "execution_count": 223,
   "metadata": {},
   "outputs": [],
   "source": [
    "from scipy.stats import chi2\n",
    "def make_p2(n, f, shita):\n",
    "    s = make_s2(n, f, shita)\n",
    "    df = len(f) - 1\n",
    "    return  1 - chi2.cdf(s, df)"
   ]
  },
  {
   "cell_type": "code",
   "execution_count": 226,
   "metadata": {},
   "outputs": [
    {
     "data": {
      "text/plain": [
       "0.05777957112359711"
      ]
     },
     "execution_count": 226,
     "metadata": {},
     "output_type": "execute_result"
    }
   ],
   "source": [
    "f = [8,2]\n",
    "n = 10\n",
    "shita = [0.5, 0.5]\n",
    "make_p2(n, f, shita)"
   ]
  },
  {
   "cell_type": "code",
   "execution_count": 245,
   "metadata": {},
   "outputs": [],
   "source": [
    "import numpy as np\n",
    "def make_s3(n, f):\n",
    "    phat = []\n",
    "    qhat = []\n",
    "    s = []\n",
    "    for i in range(len(f[0])):\n",
    "        a = f[:, i]\n",
    "        a = sum(a)\n",
    "        qhat.append(a/n)\n",
    "    for j in range(len(f)):\n",
    "        b = f[j]\n",
    "        b = sum(b)\n",
    "        phat.append(b/n)\n",
    "    for i in range(len(f)):\n",
    "        for j in range(len(f[i])):\n",
    "            s.append( (f[i][j]-n*phat[i]*qhat[j]) ** 2 / (n * phat[i] * qhat[j]))\n",
    "    s = sum(s)\n",
    "    return s"
   ]
  },
  {
   "cell_type": "code",
   "execution_count": 246,
   "metadata": {},
   "outputs": [
    {
     "data": {
      "text/plain": [
       "0.1866666666666666"
      ]
     },
     "execution_count": 246,
     "metadata": {},
     "output_type": "execute_result"
    }
   ],
   "source": [
    "n = 42\n",
    "f =np.array([[4,2,3],\n",
    "             [8,4,6],\n",
    "             [6,3,6]])\n",
    "make_s3(n, f)"
   ]
  },
  {
   "cell_type": "code",
   "execution_count": 247,
   "metadata": {},
   "outputs": [],
   "source": [
    "from scipy.stats import chi2\n",
    "def make_p3(n, f):\n",
    "    s = make_s3(n, f)\n",
    "    c = len(f)\n",
    "    r = len(f[0])\n",
    "    df = (c-1) * (r-1)\n",
    "    return  1- chi2.cdf(s, df)"
   ]
  },
  {
   "cell_type": "code",
   "execution_count": 248,
   "metadata": {},
   "outputs": [
    {
     "data": {
      "text/plain": [
       "0.9959062029218693"
      ]
     },
     "execution_count": 248,
     "metadata": {},
     "output_type": "execute_result"
    }
   ],
   "source": [
    "n = 42\n",
    "f =np.array([[4,2,3],\n",
    "             [8,4,6],\n",
    "             [6,3,6]])\n",
    "make_p3(n, f)"
   ]
  },
  {
   "cell_type": "code",
   "execution_count": null,
   "metadata": {},
   "outputs": [],
   "source": []
  }
 ],
 "metadata": {
  "kernelspec": {
   "display_name": "Python 3",
   "language": "python",
   "name": "python3"
  },
  "language_info": {
   "codemirror_mode": {
    "name": "ipython",
    "version": 3
   },
   "file_extension": ".py",
   "mimetype": "text/x-python",
   "name": "python",
   "nbconvert_exporter": "python",
   "pygments_lexer": "ipython3",
   "version": "3.7.3"
  }
 },
 "nbformat": 4,
 "nbformat_minor": 2
}
